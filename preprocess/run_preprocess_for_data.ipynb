{
 "cells": [
  {
   "cell_type": "markdown",
   "id": "e917127c",
   "metadata": {},
   "source": [
    "## Constructing img2gene Data"
   ]
  },
  {
   "cell_type": "markdown",
   "id": "6862ba5f",
   "metadata": {},
   "source": [
    "### Please Download row Data"
   ]
  },
  {
   "cell_type": "markdown",
   "id": "e3f16b51",
   "metadata": {},
   "source": [
    "### Constructing RNA and Image Data"
   ]
  },
  {
   "cell_type": "code",
   "execution_count": 29,
   "id": "ddb47e27",
   "metadata": {},
   "outputs": [
    {
     "name": "stdout",
     "output_type": "stream",
     "text": [
      "FALSE\n"
     ]
    }
   ],
   "source": [
    "import warnings\n",
    "import anndata\n",
    "warnings.filterwarnings(\"ignore\", category=UserWarning, module='anndata')\n",
    "warnings.filterwarnings(\"ignore\", category=UserWarning, module=\"scanpy\")\n",
    "warnings.filterwarnings(\"ignore\", category=anndata.ImplicitModificationWarning)\n",
    "\n",
    "from importlib import reload\n",
    "from VAE_utils import match_and_filter_adata_lists\n",
    "import preprocess \n",
    "reload(preprocess)\n",
    "from preprocess import AnnDataProcessor, Config\n",
    "AnnData = AnnDataProcessor()\n",
    "from PIL import Image\n",
    "Image.MAX_IMAGE_PIXELS = 200000000"
   ]
  },
  {
   "cell_type": "markdown",
   "id": "d368983d",
   "metadata": {},
   "source": [
    "##### Row image"
   ]
  },
  {
   "cell_type": "code",
   "execution_count": null,
   "id": "33f64e83",
   "metadata": {},
   "outputs": [],
   "source": [
    "import pandas as pd\n",
    "import numpy as np\n",
    "from PIL import Image\n",
    "file_dir = 'DownloadRowDataFile/'\n",
    "# img_names = [151507, 151508, 151509, 151510, 151669,151670, 151671, 151672, 151673, 151674, 151675, 151676]\n",
    "\n",
    "img_names = [151673, 151674, 151675, 151676]\n",
    "xycoords_list = []\n",
    "img_coordinates_list = []\n",
    "img_list = []\n",
    "barcodes_list = []\n",
    "for i, sn in enumerate(img_names):\n",
    "    data = pd.read_csv(f\"{file_dir}/{sn}/spatial/tissue_positions_list.csv\", header=None)\n",
    "    img = np.array(Image.open(f\"{file_dir}/{sn}/spatial/{sn}_full_image.tif\"))\n",
    "    x_y_coords = data.iloc[:, -4:-2].values[:,[1, 0]]  # Get the 4th and 3rd to last columns (x, y)\n",
    "    last_two_columns = data.iloc[:, -2:].values  # Get the last two columns\n",
    "    xycoords_list.append(x_y_coords)\n",
    "    img_coordinates_list.append(last_two_columns)\n",
    "    img_list.append(img)\n",
    "    barcodes_list.append(data.iloc[:, -0].values)"
   ]
  },
  {
   "cell_type": "code",
   "execution_count": 19,
   "id": "009c9e98",
   "metadata": {},
   "outputs": [
    {
     "name": "stdout",
     "output_type": "stream",
     "text": [
      "Vectorizing and cropping 32x32 image patches from 4992 coordinate points...\n",
      "AnnData object construction complete!\n",
      "Vectorizing and cropping 32x32 image patches from 4992 coordinate points...\n",
      "AnnData object construction complete!\n",
      "Vectorizing and cropping 32x32 image patches from 4992 coordinate points...\n",
      "AnnData object construction complete!\n",
      "Vectorizing and cropping 32x32 image patches from 4992 coordinate points...\n",
      "AnnData object construction complete!\n"
     ]
    }
   ],
   "source": [
    "adata_img_list = AnnData.create_img_adata_list_from_data(img_list, barcodes_list, img_coordinates_list, xycoords_list, patch_size = 32)"
   ]
  },
  {
   "cell_type": "markdown",
   "id": "a4969446",
   "metadata": {},
   "source": [
    "##### Row RNA"
   ]
  },
  {
   "cell_type": "code",
   "execution_count": 20,
   "id": "5b462d0b",
   "metadata": {},
   "outputs": [
    {
     "name": "stdout",
     "output_type": "stream",
     "text": [
      "Cells before filtering: 3639\n",
      "Cells after filtering NA cell types: 3611\n",
      "Cells before filtering: 3673\n",
      "Cells after filtering NA cell types: 3635\n",
      "Cells before filtering: 3592\n",
      "Cells after filtering NA cell types: 3566\n",
      "Cells before filtering: 3460\n",
      "Cells after filtering NA cell types: 3431\n"
     ]
    }
   ],
   "source": [
    "import scanpy as sc\n",
    "import pandas as pd\n",
    "\n",
    "def get_adata(sn, dir):\n",
    "    # Set up input files and paths\n",
    "    input_dir = f'{dir}/{sn}/'\n",
    "    count_file = f'{input_dir}{sn}_filtered_feature_bc_matrix.h5'\n",
    "    metadata_file = f'{input_dir}metadata.tsv'\n",
    "\n",
    "    # 1. Load Visium data\n",
    "    adata = sc.read_visium(path=input_dir, count_file=count_file)\n",
    "    adata.obsm[\"spatial\"] = adata.obs.loc[:, ['array_col', 'array_row']].to_numpy()\n",
    "\n",
    "    # 2. Read metadata file\n",
    "    metadata = pd.read_csv(metadata_file, sep='\\t', index_col=0)\n",
    "\n",
    "    # 3. Merge cell types into adata\n",
    "    adata.obs = adata.obs.join(metadata['layer_guess_reordered'])\n",
    "    adata.obs.rename(columns={'layer_guess_reordered': 'cell_type'}, inplace=True)\n",
    "\n",
    "    # 4. Remove cells with 'NA' cell types\n",
    "    print(f\"Cells before filtering: {adata.n_obs}\")\n",
    "    adata = adata[adata.obs['cell_type'].notna() & (adata.obs['cell_type'] != 'NA')].copy()\n",
    "    print(f\"Cells after filtering NA cell types: {adata.n_obs}\")\n",
    "    sc.pp.filter_cells(adata, min_counts=10)\n",
    "    # Remove genes expressed in fewer than 10 cells\n",
    "    sc.pp.filter_genes(adata, min_cells=10)\n",
    "    \n",
    "    # 5. Preprocessing and highly variable gene selection\n",
    "    # To keep adata.X as raw data, we create a copy for calculations\n",
    "    del adata.uns\n",
    "    adata.var_names_make_unique()\n",
    "    return adata\n",
    "\n",
    "adata_rna_list = []\n",
    "\n",
    "# Assuming 'img_names' and 'file_dir' are defined elsewhere in your code\n",
    "for sn in img_names:\n",
    "    adata = get_adata(sn, file_dir)\n",
    "    adata_rna_list.append(adata)"
   ]
  },
  {
   "cell_type": "markdown",
   "id": "6bec9550",
   "metadata": {},
   "source": [
    "#### squidpy for data"
   ]
  },
  {
   "cell_type": "code",
   "execution_count": 21,
   "id": "c76e2590",
   "metadata": {},
   "outputs": [
    {
     "name": "stdout",
     "output_type": "stream",
     "text": [
      "\n",
      "Finding spatially variable genes (SVGs) present in at least 2 samples...\n",
      "--- Processing sample: 151673 ---\n",
      "Found 3770 significant SVGs in sample 151673\n",
      "--- Processing sample: 151674 ---\n",
      "Found 3696 significant SVGs in sample 151674\n",
      "--- Processing sample: 151675 ---\n",
      "Found 3277 significant SVGs in sample 151675\n",
      "--- Processing sample: 151676 ---\n",
      "Found 2857 significant SVGs in sample 151676\n",
      "\n",
      "Total number of unique SVGs found in at least 2 samples: 3283\n",
      "Filtering AnnData objects to keep only the identified SVGs...\n",
      "Filtering complete!\n",
      "Example shape of the first filtered AnnData object: (3611, 3282)\n"
     ]
    }
   ],
   "source": [
    "import squidpy as sq\n",
    "import scanpy as sc\n",
    "import copy\n",
    "from collections import Counter\n",
    "\n",
    "print(\"\\nFinding spatially variable genes (SVGs) present in at least 2 samples...\")\n",
    "\n",
    "# --- Parameters ---\n",
    "p_val_threshold = 0.05\n",
    "min_sample_occurrence = 2 # A gene must be an SVG in at least this many samples\n",
    "\n",
    "# This list will store the set of SVG genes from each sample\n",
    "svgs_per_sample = []\n",
    "adata_rna_list_new = copy.deepcopy(adata_rna_list)\n",
    "\n",
    "# --- 1. Loop through each sample to find SVGs ---\n",
    "for i, adata in enumerate(adata_rna_list):\n",
    "    sample_name = img_names[i] if 'img_names' in locals() else str(i)\n",
    "    print(f\"--- Processing sample: {sample_name} ---\")\n",
    "\n",
    "    # Preprocessing\n",
    "    sc.pp.normalize_total(adata, target_sum=1e4)\n",
    "    sc.pp.log1p(adata)\n",
    "\n",
    "    # Compute spatial neighbors graph\n",
    "    sq.gr.spatial_neighbors(adata)\n",
    "\n",
    "    # Compute spatial autocorrelation (Moran's I)\n",
    "    sq.gr.spatial_autocorr(adata, mode=\"moran\")\n",
    "\n",
    "    # Filter for significant SVGs for the current sample\n",
    "    results_df = adata.uns['moranI']\n",
    "    current_svgs = set(results_df[results_df['pval_norm_fdr_bh'] < p_val_threshold].index)\n",
    "    \n",
    "    print(f\"Found {len(current_svgs)} significant SVGs in sample {sample_name}\")\n",
    "    svgs_per_sample.append(current_svgs)\n",
    "\n",
    "# --- 2. Count gene occurrences and filter ---\n",
    "# Create a single counter to store the frequency of each gene across all samples\n",
    "gene_counts = Counter()\n",
    "for gene_set in svgs_per_sample:\n",
    "    gene_counts.update(gene_set)\n",
    "\n",
    "# Filter the counter to get genes that appear in at least `min_sample_occurrence` samples\n",
    "svg_gene_list = [gene for gene, count in gene_counts.items() if count >= min_sample_occurrence]\n",
    "\n",
    "print(f\"\\nTotal number of unique SVGs found in at least {min_sample_occurrence} samples: {len(svg_gene_list)}\")\n",
    "\n",
    "# --- 3. Filter AnnData objects with the final gene list ---\n",
    "if not svg_gene_list:\n",
    "    print(\"\\nWarning: No SVGs met the criteria. Consider lowering the `min_sample_occurrence` or p-value threshold.\")\n",
    "else:\n",
    "    print(\"Filtering AnnData objects to keep only the identified SVGs...\")\n",
    "    for i, adata in enumerate(adata_rna_list_new):\n",
    "        # Find the genes that are both in the current adata and our final SVG list\n",
    "        common_genes = adata.var_names.intersection(svg_gene_list)\n",
    "        adata_filtered = adata[:, common_genes]\n",
    "        adata_rna_list[i] = adata_filtered\n",
    "\n",
    "    print(\"Filtering complete!\")\n",
    "    if adata_rna_list:\n",
    "        print(\"Example shape of the first filtered AnnData object:\", adata_rna_list[0].shape)"
   ]
  },
  {
   "cell_type": "markdown",
   "id": "f3601c02",
   "metadata": {},
   "source": [
    "##### Match"
   ]
  },
  {
   "cell_type": "code",
   "execution_count": 22,
   "id": "cb574aec",
   "metadata": {},
   "outputs": [
    {
     "name": "stdout",
     "output_type": "stream",
     "text": [
      "adata: (4992, 3072)\n",
      "adata: (4992, 3072)\n",
      "adata: (4992, 3072)\n",
      "adata: (4992, 3072)\n",
      "Concatenating IMG data...\n",
      "All IMG datasets are compatible. Using fast concatenation...\n"
     ]
    }
   ],
   "source": [
    "adata_img_list = AnnData.normalize_adata_list(adata_img_list, mode='IMG')"
   ]
  },
  {
   "cell_type": "code",
   "execution_count": 23,
   "id": "1a7f39e6",
   "metadata": {},
   "outputs": [
    {
     "name": "stdout",
     "output_type": "stream",
     "text": [
      "adata: (3611, 3282)\n",
      "adata: (3635, 3283)\n",
      "adata: (3566, 3279)\n",
      "adata: (3431, 3275)\n",
      "Starting data concatenation...\n",
      "Found 3271 common genes\n",
      "Processing dataset 1/4...\n",
      "Processing dataset 2/4...\n",
      "Processing dataset 3/4...\n",
      "Processing dataset 4/4...\n",
      "Starting dataset concatenation...\n",
      "Data concatenation complete!\n"
     ]
    }
   ],
   "source": [
    "adata_rna_list = AnnData.normalize_adata_list(adata_rna_list, min_genes=1, min_counts=1, mode='RNA',n_top_genes=None)"
   ]
  },
  {
   "cell_type": "code",
   "execution_count": 24,
   "id": "91fd718e",
   "metadata": {},
   "outputs": [
    {
     "name": "stdout",
     "output_type": "stream",
     "text": [
      "\n",
      "--- Processing pair 1 of anndata objects ---\n",
      "Original sizes: List1 -> 4992, List2 -> 3611\n",
      "Matching mode: 'spatial'. Synchronizing obs_names with reference list 1...\n",
      "Size after matching and synchronization: 3611\n",
      "\n",
      "--- Processing pair 2 of anndata objects ---\n",
      "Original sizes: List1 -> 4992, List2 -> 3635\n",
      "Matching mode: 'spatial'. Synchronizing obs_names with reference list 1...\n",
      "Size after matching and synchronization: 3635\n",
      "\n",
      "--- Processing pair 3 of anndata objects ---\n",
      "Original sizes: List1 -> 4992, List2 -> 3566\n",
      "Matching mode: 'spatial'. Synchronizing obs_names with reference list 1...\n",
      "Size after matching and synchronization: 3566\n",
      "\n",
      "--- Processing pair 4 of anndata objects ---\n",
      "Original sizes: List1 -> 4992, List2 -> 3431\n",
      "Matching mode: 'spatial'. Synchronizing obs_names with reference list 1...\n",
      "Size after matching and synchronization: 3431\n"
     ]
    }
   ],
   "source": [
    "adata_img_list, adata_rna_list = match_and_filter_adata_lists(adata_img_list, adata_rna_list, match_by='spatial')"
   ]
  },
  {
   "cell_type": "code",
   "execution_count": 25,
   "id": "f28e72ce",
   "metadata": {},
   "outputs": [
    {
     "name": "stdout",
     "output_type": "stream",
     "text": [
      "['RNA', 'IMG']\n",
      "Applying special merging rules for 'cell_type'...\n",
      "  - Number of cell types in adata_cat: 7\n",
      "  - Number of cell types in adata_m: 1\n",
      "  -> Decision: Keeping 'cell_type' from adata_cat.\n",
      "0, IMG\n",
      "KeysView(AxisArrays with keys: spatial, location, normalized_counts, mask, img_coordinates, IMG_Shape)\n",
      "Starting to clean DataFrame with 15 columns...\n",
      "Cleaning complete.\n",
      "Starting to clean DataFrame with 4 columns...\n",
      "Cleaning complete.\n",
      "AnnData object with n_obs × n_vars = 3611 × 6343\n",
      "    obs: 'IMG_cell_type', 'RNA_cell_type', 'array_col', 'array_row', 'batch', 'batch_view', 'cell_index', 'cell_type', 'in_tissue', 'layers_label', 'mask', 'n_counts', 'n_genes', 'size_factors', 'slice_view'\n",
      "    var: 'mean', 'std', 'mode', 'mask'\n",
      "    uns: 'log1p', 'mode', 'slice_id'\n",
      "    obsm: 'spatial', 'location', 'normalized_counts', 'mask', 'img_coordinates', 'IMG_Shape'\n",
      "    layers: 'rawX'\n",
      "Applying special merging rules for 'cell_type'...\n",
      "  - Number of cell types in adata_cat: 7\n",
      "  - Number of cell types in adata_m: 1\n",
      "  -> Decision: Keeping 'cell_type' from adata_cat.\n",
      "1, IMG\n",
      "KeysView(AxisArrays with keys: spatial, location, normalized_counts, mask, img_coordinates, IMG_Shape)\n",
      "Starting to clean DataFrame with 15 columns...\n",
      "Cleaning complete.\n",
      "Starting to clean DataFrame with 4 columns...\n",
      "Cleaning complete.\n",
      "AnnData object with n_obs × n_vars = 3635 × 6343\n",
      "    obs: 'IMG_cell_type', 'RNA_cell_type', 'array_col', 'array_row', 'batch', 'batch_view', 'cell_index', 'cell_type', 'in_tissue', 'layers_label', 'mask', 'n_counts', 'n_genes', 'size_factors', 'slice_view'\n",
      "    var: 'mean', 'std', 'mode', 'mask'\n",
      "    uns: 'log1p', 'mode', 'slice_id'\n",
      "    obsm: 'spatial', 'location', 'normalized_counts', 'mask', 'img_coordinates', 'IMG_Shape'\n",
      "    layers: 'rawX'\n",
      "Applying special merging rules for 'cell_type'...\n",
      "  - Number of cell types in adata_cat: 7\n",
      "  - Number of cell types in adata_m: 1\n",
      "  -> Decision: Keeping 'cell_type' from adata_cat.\n",
      "2, IMG\n",
      "KeysView(AxisArrays with keys: spatial, location, normalized_counts, mask, img_coordinates, IMG_Shape)\n",
      "Starting to clean DataFrame with 15 columns...\n",
      "Cleaning complete.\n",
      "Starting to clean DataFrame with 4 columns...\n",
      "Cleaning complete.\n",
      "AnnData object with n_obs × n_vars = 3566 × 6343\n",
      "    obs: 'IMG_cell_type', 'RNA_cell_type', 'array_col', 'array_row', 'batch', 'batch_view', 'cell_index', 'cell_type', 'in_tissue', 'layers_label', 'mask', 'n_counts', 'n_genes', 'size_factors', 'slice_view'\n",
      "    var: 'mean', 'std', 'mode', 'mask'\n",
      "    uns: 'log1p', 'mode', 'slice_id'\n",
      "    obsm: 'spatial', 'location', 'normalized_counts', 'mask', 'img_coordinates', 'IMG_Shape'\n",
      "    layers: 'rawX'\n",
      "Applying special merging rules for 'cell_type'...\n",
      "  - Number of cell types in adata_cat: 7\n",
      "  - Number of cell types in adata_m: 1\n",
      "  -> Decision: Keeping 'cell_type' from adata_cat.\n",
      "3, IMG\n",
      "KeysView(AxisArrays with keys: spatial, location, normalized_counts, mask, img_coordinates, IMG_Shape)\n",
      "Starting to clean DataFrame with 15 columns...\n",
      "Cleaning complete.\n",
      "Starting to clean DataFrame with 4 columns...\n",
      "Cleaning complete.\n",
      "AnnData object with n_obs × n_vars = 3431 × 6343\n",
      "    obs: 'IMG_cell_type', 'RNA_cell_type', 'array_col', 'array_row', 'batch', 'batch_view', 'cell_index', 'cell_type', 'in_tissue', 'layers_label', 'mask', 'n_counts', 'n_genes', 'size_factors', 'slice_view'\n",
      "    var: 'mean', 'std', 'mode', 'mask'\n",
      "    uns: 'log1p', 'mode', 'slice_id'\n",
      "    obsm: 'spatial', 'location', 'normalized_counts', 'mask', 'img_coordinates', 'IMG_Shape'\n",
      "    layers: 'rawX'\n"
     ]
    }
   ],
   "source": [
    "true_adata_dict_list = AnnData.generate_MultiOmic_adata_dict_list(Img_list = adata_img_list, RNA_list = adata_rna_list, simulate_missing=False)\n",
    "adata_cat = AnnData.mode_concat(adata_dict_list=true_adata_dict_list)"
   ]
  },
  {
   "cell_type": "code",
   "execution_count": null,
   "id": "c6bfe321",
   "metadata": {},
   "outputs": [],
   "source": [
    "for n,adata in zip(img_names,adata_cat):\n",
    "    columns_to_delete = [\n",
    "    'n_cells-batch_0', 'highly_variable-batch_0', 'n_counts-batch_0',\n",
    "    'n_cells-batch_1', 'highly_variable-batch_1', 'n_counts-batch_1',\n",
    "    'n_cells-batch_10', 'highly_variable-batch_10', 'n_counts-batch_10',\n",
    "    'n_cells-batch_11', 'highly_variable-batch_11', 'n_counts-batch_11',\n",
    "    'n_cells-batch_2', 'highly_variable-batch_2', 'n_counts-batch_2',\n",
    "    'n_cells-batch_3', 'highly_variable-batch_3', 'n_counts-batch_3',\n",
    "    'n_cells-batch_4', 'highly_variable-batch_4', 'n_counts-batch_4',\n",
    "    'n_cells-batch_5', 'highly_variable-batch_5', 'n_counts-batch_5',\n",
    "    'n_cells-batch_6', 'highly_variable-batch_6', 'n_counts-batch_6',\n",
    "    'n_cells-batch_7', 'highly_variable-batch_7', 'n_counts-batch_7',\n",
    "    'n_cells-batch_8', 'highly_variable-batch_8', 'n_counts-batch_8',\n",
    "    'n_cells-batch_9', 'highly_variable-batch_9', 'n_counts-batch_9',\n",
    "    'mean', 'std',\n",
    "    ]\n",
    "    adata.var = adata.var.drop(columns=columns_to_delete, errors='ignore')\n",
    "    adata.write(f'./data/adata_slice{n}.h5ad')"
   ]
  },
  {
   "cell_type": "code",
   "execution_count": 26,
   "id": "06e1f42c",
   "metadata": {},
   "outputs": [
    {
     "name": "stdout",
     "output_type": "stream",
     "text": [
      "FALSE\n",
      "Vectorizing and cropping 160x160 image patches from 4992 coordinate points...\n",
      "AnnData object construction complete!\n",
      "Vectorizing and cropping 160x160 image patches from 4992 coordinate points...\n",
      "AnnData object construction complete!\n",
      "Vectorizing and cropping 160x160 image patches from 4992 coordinate points...\n",
      "AnnData object construction complete!\n",
      "Vectorizing and cropping 160x160 image patches from 4992 coordinate points...\n",
      "AnnData object construction complete!\n"
     ]
    }
   ],
   "source": [
    "from importlib import reload\n",
    "import preprocess \n",
    "reload(preprocess)\n",
    "from preprocess import AnnDataProcessor, Config\n",
    "AnnData = AnnDataProcessor()\n",
    "adata_img_list = AnnData.create_img_adata_list_from_data(img_list, barcodes_list, img_coordinates_list, xycoords_list, patch_size = 160)"
   ]
  },
  {
   "cell_type": "code",
   "execution_count": 27,
   "id": "4e3adaf5",
   "metadata": {},
   "outputs": [
    {
     "name": "stdout",
     "output_type": "stream",
     "text": [
      "adata: (4992, 76800)\n",
      "adata: (4992, 76800)\n",
      "adata: (4992, 76800)\n",
      "adata: (4992, 76800)\n",
      "Concatenating IMG data...\n",
      "All IMG datasets are compatible. Using fast concatenation...\n"
     ]
    }
   ],
   "source": [
    "adata_img_list = AnnData.normalize_adata_list(adata_img_list, mode='IMG')"
   ]
  },
  {
   "cell_type": "code",
   "execution_count": 28,
   "id": "bd572701",
   "metadata": {},
   "outputs": [
    {
     "name": "stdout",
     "output_type": "stream",
     "text": [
      "\n",
      "--- Processing pair 1 of anndata objects ---\n",
      "Original sizes: List1 -> 4992, List2 -> 3611\n",
      "Matching mode: 'spatial'. Synchronizing obs_names with reference list 1...\n",
      "Size after matching and synchronization: 3611\n",
      "\n",
      "--- Processing pair 2 of anndata objects ---\n",
      "Original sizes: List1 -> 4992, List2 -> 3635\n",
      "Matching mode: 'spatial'. Synchronizing obs_names with reference list 1...\n",
      "Size after matching and synchronization: 3635\n",
      "\n",
      "--- Processing pair 3 of anndata objects ---\n",
      "Original sizes: List1 -> 4992, List2 -> 3566\n",
      "Matching mode: 'spatial'. Synchronizing obs_names with reference list 1...\n",
      "Size after matching and synchronization: 3566\n",
      "\n",
      "--- Processing pair 4 of anndata objects ---\n",
      "Original sizes: List1 -> 4992, List2 -> 3431\n",
      "Matching mode: 'spatial'. Synchronizing obs_names with reference list 1...\n",
      "Size after matching and synchronization: 3431\n"
     ]
    }
   ],
   "source": [
    "adata_img_list, adata_rna_list = match_and_filter_adata_lists(adata_img_list, adata_rna_list, match_by='spatial')"
   ]
  },
  {
   "cell_type": "code",
   "execution_count": null,
   "id": "b307d36f",
   "metadata": {},
   "outputs": [],
   "source": [
    "for n,adata in zip(img_names, adata_img_list):\n",
    "    adata.write(f'./data/adata_h_img_{n}.h5ad')"
   ]
  }
 ],
 "metadata": {
  "kernelspec": {
   "display_name": "tg3",
   "language": "python",
   "name": "python3"
  },
  "language_info": {
   "codemirror_mode": {
    "name": "ipython",
    "version": 3
   },
   "file_extension": ".py",
   "mimetype": "text/x-python",
   "name": "python",
   "nbconvert_exporter": "python",
   "pygments_lexer": "ipython3",
   "version": "3.8.18"
  }
 },
 "nbformat": 4,
 "nbformat_minor": 5
}
